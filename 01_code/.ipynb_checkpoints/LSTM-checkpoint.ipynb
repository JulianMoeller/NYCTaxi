{
 "cells": [
  {
   "cell_type": "code",
   "execution_count": 112,
   "metadata": {},
   "outputs": [],
   "source": [
    "import pandas as pd\n",
    "import h3\n",
    "from keplergl import KeplerGl\n",
    "from datetime import datetime, timedelta\n",
    "from meteostat import Point, Daily, Hourly\n",
    "\n",
    "import keras\n",
    "from keras.models import Sequential\n",
    "from keras.layers import Dense\n",
    "from keras.layers import LSTM"
   ]
  },
  {
   "cell_type": "code",
   "execution_count": 100,
   "metadata": {},
   "outputs": [],
   "source": [
    "df_train = pd.read_csv('../00_data/02_processed_bookingdata/train.csv')\n",
    "df_test = pd.read_csv('../00_data/02_processed_bookingdata/test.csv')\n",
    "df_validation = pd.read_csv('../00_data/02_processed_bookingdata/validation.csv')\n",
    "\n",
    "useless_columns = ['Unnamed: 0','snow', 'wpgt', 'tsun', 'coco']\n",
    "usefull_columns = df_train.keys()\n",
    "\n",
    "df_train.drop(useless_columns, axis=1, inplace= True)\n",
    "df_test.drop(useless_columns, axis=1, inplace= True)\n",
    "df_validation.drop(useless_columns, axis=1, inplace= True)\n",
    "\n",
    "usefull_columns = df_train.keys().tolist()\n",
    "usefull_columns.remove('start')\n",
    "usefull_columns.remove('end')\n",
    "\n",
    "zone_ids = list(\n",
    "    set(df_train.keys().tolist()).difference(\n",
    "    ['dwpt', 'end', 'prcp', 'pres', 'rhum','start','temp','wdir', 'wspd'])\n",
    ")\n",
    "\n",
    "zone_ids_prediciton = [_+'+' for _ in zone_ids]"
   ]
  },
  {
   "cell_type": "code",
   "execution_count": 133,
   "metadata": {},
   "outputs": [
    {
     "name": "stderr",
     "output_type": "stream",
     "text": [
      "/Users/julian_moeller/opt/anaconda3/lib/python3.7/site-packages/pandas/core/frame.py:3191: SettingWithCopyWarning: \n",
      "A value is trying to be set on a copy of a slice from a DataFrame.\n",
      "Try using .loc[row_indexer,col_indexer] = value instead\n",
      "\n",
      "See the caveats in the documentation: https://pandas.pydata.org/pandas-docs/stable/user_guide/indexing.html#returning-a-view-versus-a-copy\n",
      "  self[k1] = value[k2]\n"
     ]
    }
   ],
   "source": [
    "df_train_dummy = df_train[usefull_columns]\n",
    "df_train_dummy[zone_ids_prediciton] = df_train_dummy[zone_ids].shift(-1)    \n",
    "df_train_dummy = df_train_dummy.dropna()\n",
    "train = df_train_dummy.values\n",
    "\n",
    "X_train, y_train = train[:, 0:-50], train[:, -50]\n",
    "X_train = X_train.reshape(X_train.shape[0], 1, X_train.shape[1])"
   ]
  },
  {
   "cell_type": "code",
   "execution_count": 130,
   "metadata": {},
   "outputs": [
    {
     "name": "stdout",
     "output_type": "stream",
     "text": [
      "Epoch 1/10\n",
      "3358/3358 [==============================] - 8s 2ms/step - loss: 0.0624\n",
      "Epoch 2/10\n",
      "3358/3358 [==============================] - 6s 2ms/step - loss: 0.0611\n",
      "Epoch 3/10\n",
      "3358/3358 [==============================] - 6s 2ms/step - loss: 0.0612\n",
      "Epoch 4/10\n",
      "3358/3358 [==============================] - 6s 2ms/step - loss: 0.0611\n",
      "Epoch 5/10\n",
      "3358/3358 [==============================] - 6s 2ms/step - loss: 0.0612\n",
      "Epoch 6/10\n",
      "3358/3358 [==============================] - 6s 2ms/step - loss: 0.0611\n",
      "Epoch 7/10\n",
      "3358/3358 [==============================] - 6s 2ms/step - loss: 0.0611\n",
      "Epoch 8/10\n",
      "3358/3358 [==============================] - 6s 2ms/step - loss: 0.0611\n",
      "Epoch 9/10\n",
      "3358/3358 [==============================] - 6s 2ms/step - loss: 0.0611\n",
      "Epoch 10/10\n",
      "3358/3358 [==============================] - 6s 2ms/step - loss: 0.0611\n"
     ]
    }
   ],
   "source": [
    "batch_size= 1\n",
    "neurons = 8\n",
    "nb_epoch = 10\n",
    "es = keras.callbacks.EarlyStopping(monitor='val_loss', mode='min', verbose=1, patience=10, restore_best_weights=True)\n",
    "lr_schedule = keras.callbacks.LearningRateScheduler(lambda epoch: 1e-5 * (30/(epoch+1)))\n",
    "\n",
    "model = Sequential()\n",
    "model.add(LSTM(neurons, batch_input_shape=(batch_size, X_train.shape[1], X_train.shape[2]), return_sequences=True, stateful=True))\n",
    "model.add(Dense(1))\n",
    "\n",
    "model.compile(loss=keras.losses.Huber(), optimizer='adam' )\n",
    "history = model.fit(X_train, y_train, \n",
    "                    epochs=nb_epoch,\n",
    "                    batch_size=batch_size, \n",
    "                    shuffle=False, \n",
    "                   )"
   ]
  }
 ],
 "metadata": {
  "kernelspec": {
   "display_name": "Python 3",
   "language": "python",
   "name": "python3"
  },
  "language_info": {
   "codemirror_mode": {
    "name": "ipython",
    "version": 3
   },
   "file_extension": ".py",
   "mimetype": "text/x-python",
   "name": "python",
   "nbconvert_exporter": "python",
   "pygments_lexer": "ipython3",
   "version": "3.7.6"
  }
 },
 "nbformat": 4,
 "nbformat_minor": 4
}
